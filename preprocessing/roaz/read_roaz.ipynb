{
 "cells": [
  {
   "cell_type": "code",
   "execution_count": 37,
   "metadata": {},
   "outputs": [],
   "source": [
    "import pandas as pd "
   ]
  },
  {
   "cell_type": "code",
   "execution_count": 38,
   "metadata": {},
   "outputs": [
    {
     "data": {
      "text/html": [
       "<div>\n",
       "<style scoped>\n",
       "    .dataframe tbody tr th:only-of-type {\n",
       "        vertical-align: middle;\n",
       "    }\n",
       "\n",
       "    .dataframe tbody tr th {\n",
       "        vertical-align: top;\n",
       "    }\n",
       "\n",
       "    .dataframe thead th {\n",
       "        text-align: right;\n",
       "    }\n",
       "</style>\n",
       "<table border=\"1\" class=\"dataframe\">\n",
       "  <thead>\n",
       "    <tr style=\"text-align: right;\">\n",
       "      <th></th>\n",
       "      <th>TNO_code</th>\n",
       "      <th>ROAZ01</th>\n",
       "      <th>ROAZ02</th>\n",
       "      <th>ROAZ03</th>\n",
       "      <th>ROAZ04</th>\n",
       "      <th>ROAZ05</th>\n",
       "      <th>ROAZ06</th>\n",
       "      <th>ROAZ07</th>\n",
       "      <th>ROAZ08</th>\n",
       "      <th>ROAZ09</th>\n",
       "      <th>ROAZ10</th>\n",
       "      <th>ROAZ11</th>\n",
       "    </tr>\n",
       "  </thead>\n",
       "  <tbody>\n",
       "    <tr>\n",
       "      <th>0</th>\n",
       "      <td>9</td>\n",
       "      <td>NaN</td>\n",
       "      <td>NaN</td>\n",
       "      <td>NaN</td>\n",
       "      <td>NaN</td>\n",
       "      <td>x</td>\n",
       "      <td>NaN</td>\n",
       "      <td>NaN</td>\n",
       "      <td>NaN</td>\n",
       "      <td>NaN</td>\n",
       "      <td>NaN</td>\n",
       "      <td>NaN</td>\n",
       "    </tr>\n",
       "    <tr>\n",
       "      <th>1</th>\n",
       "      <td>18</td>\n",
       "      <td>NaN</td>\n",
       "      <td>NaN</td>\n",
       "      <td>NaN</td>\n",
       "      <td>NaN</td>\n",
       "      <td>x</td>\n",
       "      <td>NaN</td>\n",
       "      <td>NaN</td>\n",
       "      <td>NaN</td>\n",
       "      <td>NaN</td>\n",
       "      <td>NaN</td>\n",
       "      <td>NaN</td>\n",
       "    </tr>\n",
       "  </tbody>\n",
       "</table>\n",
       "</div>"
      ],
      "text/plain": [
       "  TNO_code ROAZ01 ROAZ02 ROAZ03 ROAZ04 ROAZ05 ROAZ06 ROAZ07 ROAZ08 ROAZ09  \\\n",
       "0        9    NaN    NaN    NaN    NaN      x    NaN    NaN    NaN    NaN   \n",
       "1       18    NaN    NaN    NaN    NaN      x    NaN    NaN    NaN    NaN   \n",
       "\n",
       "  ROAZ10 ROAZ11  \n",
       "0    NaN    NaN  \n",
       "1    NaN    NaN  "
      ]
     },
     "execution_count": 38,
     "metadata": {},
     "output_type": "execute_result"
    }
   ],
   "source": [
    "df = pd.read_excel('roaz_codes.xlsx') \n",
    "df.head(2)"
   ]
  },
  {
   "cell_type": "code",
   "execution_count": 41,
   "metadata": {},
   "outputs": [
    {
     "name": "stdout",
     "output_type": "stream",
     "text": [
      "{9: ['ROAZ05'], 18: ['ROAZ05'], 17: ['ROAZ05'], 23: ['ROAZ05'], 51: ['ROAZ02', 'ROAZ05'], 52: ['ROAZ02', 'ROAZ05'], 69: ['ROAZ05'], 70: ['ROAZ05'], 1: ['ROAZ04'], 2: ['ROAZ04'], 3: ['ROAZ06'], 5: ['ROAZ07'], 6: ['ROAZ07'], 81: ['ROAZ05'], 4: ['ROAZ02', 'ROAZ05'], 7: ['ROAZ01'], 57: ['ROAZ04'], 10: ['ROAZ07'], 11: ['ROAZ07'], 12: ['ROAZ10'], 13: ['ROAZ07'], 15: ['ROAZ09'], 16: ['ROAZ08'], 21: ['ROAZ07'], 19: ['ROAZ07'], 20: ['ROAZ04'], 24: ['ROAZ04'], 25: ['ROAZ04'], 26: ['ROAZ09'], 27: ['ROAZ09'], 28: ['ROAZ06'], 31: ['ROAZ06'], 32: ['ROAZ06'], 29: ['ROAZ06'], 30: ['ROAZ04'], 33: ['ROAZ04'], 34: ['ROAZ04'], 35: ['ROAZ09'], 36: ['ROAZ09'], 37: ['ROAZ07'], 38: ['ROAZ06'], 39: ['ROAZ11'], 40: ['ROAZ06'], 41: ['ROAZ04'], 42: ['ROAZ07', 'ROAZ10', 'ROAZ11'], 43: ['ROAZ01'], 44: ['ROAZ07'], 46: ['ROAZ08'], 45: ['ROAZ01'], 47: ['ROAZ03'], 0: ['ROAZ11'], 48: ['ROAZ01'], 49: ['ROAZ05'], 50: ['ROAZ05'], 53: ['ROAZ01'], 54: ['ROAZ10'], 55: ['ROAZ06'], 56: ['ROAZ10'], 58: ['ROAZ05'], 59: ['ROAZ09'], 67: ['ROAZ11'], 60: ['ROAZ10'], 61: ['ROAZ05'], 62: ['ROAZ05'], 63: ['ROAZ05'], 65: ['ROAZ08'], 66: ['ROAZ08'], 64: ['ROAZ07'], 68: ['ROAZ03'], 14: ['ROAZ01'], 71: ['ROAZ01'], 72: ['ROAZ01'], 73: ['ROAZ01'], 75: ['ROAZ08'], 76: ['ROAZ08'], 74: ['ROAZ01'], 77: ['ROAZ11'], 78: ['ROAZ02', 'ROAZ05'], 79: ['ROAZ01'], 80: ['ROAZ05'], 8: ['ROAZ07'], 82: ['ROAZ10'], 85: ['ROAZ03'], 83: ['ROAZ10'], 84: ['ROAZ09'], 86: ['ROAZ04'], 87: ['ROAZ11']}\n"
     ]
    }
   ],
   "source": [
    "df['TNO_code'] = df['TNO_code'].astype(str)\n",
    "\n",
    "root = {}\n",
    "\n",
    "for index, row in df.iterrows():\n",
    "    row\n",
    "    # tno_code = int(row['TNO_code'])\n",
    "    \n",
    "    tno_codes = row['TNO_code'].replace(' ', '').split('/')\n",
    "    for tno_code in tno_codes:\n",
    "        tno_code = int(tno_code)\n",
    "        roaz_row = row.drop('TNO_code')\n",
    "        roaz_row = roaz_row.dropna()\n",
    "        \n",
    "        roaz_regios = roaz_row.index.tolist()        \n",
    "        root[tno_code] = roaz_regios\n",
    "\n",
    "print(root)\n",
    "\n",
    "import json\n",
    "with open('roazregios.json', 'w') as filepath:\n",
    "    json.dump(root, filepath)"
   ]
  },
  {
   "cell_type": "code",
   "execution_count": null,
   "metadata": {},
   "outputs": [],
   "source": []
  }
 ],
 "metadata": {
  "interpreter": {
   "hash": "75b01f66c9c2b2ae2a9769cfed09867fcad4fa30ca9f5d46c3a99e2a4c6c79db"
  },
  "kernelspec": {
   "display_name": "Python 3.9.5 ('base')",
   "language": "python",
   "name": "python3"
  },
  "language_info": {
   "codemirror_mode": {
    "name": "ipython",
    "version": 3
   },
   "file_extension": ".py",
   "mimetype": "text/x-python",
   "name": "python",
   "nbconvert_exporter": "python",
   "pygments_lexer": "ipython3",
   "version": "3.9.5"
  },
  "orig_nbformat": 4
 },
 "nbformat": 4,
 "nbformat_minor": 2
}
