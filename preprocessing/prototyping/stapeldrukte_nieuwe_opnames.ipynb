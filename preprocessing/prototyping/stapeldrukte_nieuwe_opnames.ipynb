{
 "cells": [
  {
   "cell_type": "code",
   "execution_count": 1,
   "metadata": {},
   "outputs": [],
   "source": [
    "import numpy as np"
   ]
  },
  {
   "cell_type": "code",
   "execution_count": 7,
   "metadata": {},
   "outputs": [
    {
     "data": {
      "text/plain": [
       "array([0, 0, 1, 3, 5, 5, 3, 1, 0])"
      ]
     },
     "execution_count": 7,
     "metadata": {},
     "output_type": "execute_result"
    }
   ],
   "source": [
    "n = np.array([0, 0, 1, 2, 3, 2, 1, 0, 0])\n",
    "c = n + np.roll(n, 1) \n",
    "c\n",
    "\n"
   ]
  },
  {
   "cell_type": "code",
   "execution_count": 30,
   "metadata": {},
   "outputs": [
    {
     "data": {
      "text/plain": [
       "array([[ 1,  0,  0,  0,  0,  0,  0, -1,  0],\n",
       "       [ 0,  1,  0,  0,  0,  0,  0,  0, -1],\n",
       "       [-1,  0,  1,  0,  0,  0,  0,  0,  0],\n",
       "       [ 0, -1,  0,  1,  0,  0,  0,  0,  0],\n",
       "       [ 0,  0, -1,  0,  1,  0,  0,  0,  0],\n",
       "       [ 0,  0,  0, -1,  0,  1,  0,  0,  0],\n",
       "       [ 0,  0,  0,  0, -1,  0,  1,  0,  0],\n",
       "       [ 0,  0,  0,  0,  0, -1,  0,  1,  0],\n",
       "       [ 0,  0,  0,  0,  0,  0, -1,  0,  1]])"
      ]
     },
     "execution_count": 30,
     "metadata": {},
     "output_type": "execute_result"
    }
   ],
   "source": [
    "\"\"\" dc/dt = n(t) - n(t-2)\"\"\"\n",
    "size = len(n)\n",
    "D = np.diag([1]*size, k=0) \n",
    "for i in range(size):\n",
    "    D[(i+2)%size, i] = -1\n",
    "D"
   ]
  },
  {
   "cell_type": "code",
   "execution_count": 29,
   "metadata": {},
   "outputs": [
    {
     "data": {
      "text/plain": [
       "array([-1.00000000e+00, -1.66666667e+00, -1.33333333e+00,  4.44089210e-16,\n",
       "        1.33333333e+00,  1.66666667e+00,  1.00000000e+00,  3.33333333e-01,\n",
       "       -3.33333333e-01])"
      ]
     },
     "execution_count": 29,
     "metadata": {},
     "output_type": "execute_result"
    }
   ],
   "source": [
    "n_pseudo = np.linalg.pinv(D)@c\n",
    "n_predict = n_pseudo #- min(n_pseudo)\n",
    "n_predict"
   ]
  },
  {
   "cell_type": "code",
   "execution_count": 37,
   "metadata": {},
   "outputs": [
    {
     "name": "stdout",
     "output_type": "stream",
     "text": [
      "[ 10 -10   0]\n"
     ]
    },
    {
     "data": {
      "text/plain": [
       "array([ 6.66666667, -3.33333333, -3.33333333])"
      ]
     },
     "execution_count": 37,
     "metadata": {},
     "output_type": "execute_result"
    }
   ],
   "source": [
    "T = np.array([[1, 0, -1], [-1, 1, 0], [0, -1, 1]])\n",
    "print( T@np.array([10, 0, 0]) )\n",
    "np.linalg.pinv(T)@np.array([10, -10, 0])"
   ]
  },
  {
   "cell_type": "code",
   "execution_count": 38,
   "metadata": {},
   "outputs": [
    {
     "name": "stderr",
     "output_type": "stream",
     "text": [
      "C:\\Users\\schaekente\\AppData\\Local\\Temp\\ipykernel_2808\\2467982131.py:1: FutureWarning: `rcond` parameter will change to the default of machine precision times ``max(M, N)`` where M and N are the input matrix dimensions.\n",
      "To use the future default and silence this warning we advise to pass `rcond=None`, to keep using the old, explicitly pass `rcond=-1`.\n",
      "  np.linalg.lstsq(D, c)\n"
     ]
    },
    {
     "data": {
      "text/plain": [
       "(array([-1.0000000e+00, -2.0000000e+00, -2.0000000e+00, -1.0000000e+00,\n",
       "         1.0000000e+00,  2.0000000e+00,  2.0000000e+00,  1.0000000e+00,\n",
       "        -7.3511423e-16]),\n",
       " array([], dtype=float64),\n",
       " 8,\n",
       " array([1.96961551e+00, 1.96961551e+00, 1.73205081e+00, 1.73205081e+00,\n",
       "        1.28557522e+00, 1.28557522e+00, 6.84040287e-01, 6.84040287e-01,\n",
       "        8.46725286e-17]))"
      ]
     },
     "execution_count": 38,
     "metadata": {},
     "output_type": "execute_result"
    }
   ],
   "source": [
    "np.linalg.lstsq(D, c)"
   ]
  },
  {
   "cell_type": "code",
   "execution_count": 59,
   "metadata": {},
   "outputs": [
    {
     "data": {
      "text/plain": [
       "array([0, 1, 2, 3, 5, 5, 3, 1, 0], dtype=int32)"
      ]
     },
     "execution_count": 59,
     "metadata": {},
     "output_type": "execute_result"
    }
   ],
   "source": [
    "n = np.array([0, 1, 1, 2, 3, 2, 1, 0, 0])\n",
    "dc = n - np.roll(n, 2) \n",
    "c = np.cumsum(dc)\n",
    "c\n"
   ]
  },
  {
   "cell_type": "code",
   "execution_count": 44,
   "metadata": {},
   "outputs": [
    {
     "data": {
      "text/plain": [
       "array([-1.00000000e+00, -1.00000000e+00, -2.00000000e+00, -1.00000000e+00,\n",
       "        6.10622664e-16,  1.00000000e+00,  2.00000000e+00,  1.00000000e+00,\n",
       "        1.00000000e+00])"
      ]
     },
     "execution_count": 44,
     "metadata": {},
     "output_type": "execute_result"
    }
   ],
   "source": [
    "size = len(n)\n",
    "D = np.diag([1]*size, k=0) \n",
    "for i in range(size):\n",
    "    D[(i+2)%size, i] = -1\n",
    "D\n",
    "n_pseudo = np.linalg.pinv(D)@c\n",
    "n_pseudo"
   ]
  },
  {
   "cell_type": "code",
   "execution_count": 60,
   "metadata": {},
   "outputs": [
    {
     "data": {
      "text/plain": [
       "array([-1.132989  , -0.13298901, -0.132989  ,  0.867011  ,  1.86701099,\n",
       "        0.867011  , -0.13298901, -1.132989  , -1.13298901])"
      ]
     },
     "execution_count": 60,
     "metadata": {},
     "output_type": "execute_result"
    }
   ],
   "source": [
    "from scipy.optimize import least_squares\n",
    "\n",
    "def optimize_func(x):\n",
    "    dc = x - np.roll(x, 2) \n",
    "    c_predict = np.cumsum(dc)\n",
    "    return c_predict - c\n",
    "\n",
    "size = len(n)\n",
    "x0 = np.array([0]*size)\n",
    "\n",
    "res_1 = least_squares(optimize_func, x0)\n",
    "res_1.x"
   ]
  },
  {
   "cell_type": "code",
   "execution_count": null,
   "metadata": {},
   "outputs": [],
   "source": []
  }
 ],
 "metadata": {
  "interpreter": {
   "hash": "3d4fb22f4393beefc65cf1b7372a19f2df56ed5df45f30fcaade9d35fd7b0be3"
  },
  "kernelspec": {
   "display_name": "Python 3.9.7 ('kinexon_env')",
   "language": "python",
   "name": "python3"
  },
  "language_info": {
   "codemirror_mode": {
    "name": "ipython",
    "version": 3
   },
   "file_extension": ".py",
   "mimetype": "text/x-python",
   "name": "python",
   "nbconvert_exporter": "python",
   "pygments_lexer": "ipython3",
   "version": "3.9.5"
  },
  "orig_nbformat": 4
 },
 "nbformat": 4,
 "nbformat_minor": 2
}
