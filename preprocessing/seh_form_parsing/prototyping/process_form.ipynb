{
 "cells": [
  {
   "cell_type": "code",
   "execution_count": 3,
   "id": "b280ff40-860d-4937-a5ca-322e2a3b80c3",
   "metadata": {},
   "outputs": [],
   "source": [
    "import pandas as pd \n",
    "import functools\n",
    "import numpy as np "
   ]
  },
  {
   "cell_type": "code",
   "execution_count": 4,
   "id": "fcf168fb-7c82-4ec7-b38b-7545f318179b",
   "metadata": {},
   "outputs": [],
   "source": [
    "file = 'test.xlsx'"
   ]
  },
  {
   "cell_type": "code",
   "execution_count": 5,
   "id": "64370940-8163-48e3-a733-03b23307f1ab",
   "metadata": {},
   "outputs": [],
   "source": [
    "def to_camelcase(string):\n",
    "    output = ''.join(x for x in string.title() if x.isalnum())\n",
    "    return output[0].lower() + output[1:]\n",
    "def capitalize_seh(string):\n",
    "    return string.replace('Seh', 'SEH') "
   ]
  },
  {
   "cell_type": "code",
   "execution_count": 6,
   "id": "bd86c629-98fd-4715-8167-56807cd588bf",
   "metadata": {},
   "outputs": [],
   "source": [
    "def get_cols_as_dict(key_col, value_col, start_index, end_index=None, \n",
    "                     datetime_index=False, datetime_fmt=''):\n",
    "    \n",
    "    nrows = end_index-(start_index-1) if end_index is not None else 1\n",
    "    df = pd.read_excel(file, skiprows=start_index-1,  nrows=nrows, \n",
    "                       usecols = f'{key_col},{value_col}', header=None, index_col=0)\n",
    "    \n",
    "    series = df.iloc[:, 0].infer_objects()\n",
    "    dct = series.to_dict()\n",
    "    \n",
    "    mappings = [str, to_camelcase, capitalize_seh]\n",
    "    for mapping in mappings:\n",
    "        dct = {mapping(k):v for k,v in dct.items()}\n",
    "        \n",
    "    return dct"
   ]
  },
  {
   "cell_type": "code",
   "execution_count": 34,
   "id": "4fc0d082-1ea4-4453-8419-bd53096f4014",
   "metadata": {},
   "outputs": [],
   "source": [
    "root = {\n",
    "    **get_cols_as_dict('B', 'D', 13),  # 1\n",
    "    **get_cols_as_dict('B', 'D', 15),  # 2 \n",
    "    **get_cols_as_dict('B', 'D', 17, 18),  # 3a\n",
    "    '3b': get_cols_as_dict('C', 'D', 20, 31),  # 3b\n",
    "    '3c': get_cols_as_dict('C', 'D', 34, 40),  # 3c\n",
    "    '3d': get_cols_as_dict('B', 'D', 42, 43),  # 3d\n",
    "    '3e': get_cols_as_dict('B', 'D', 45, 49),  # 3e\n",
    "    'stapeldrukte': {  # 3f\n",
    "        'mon': {'max': get_cols_as_dict('C', 'D', 52, 75), 'gem': get_cols_as_dict('C', 'E', 52, 75)},\n",
    "        'tue': {'max': get_cols_as_dict('C', 'D', 77, 100), 'gem': get_cols_as_dict('C', 'E', 77, 100)},\n",
    "        'wed': {'max': get_cols_as_dict('C', 'D', 102, 125), 'gem': get_cols_as_dict('C', 'E', 102, 125)},\n",
    "        'thu': {'max': get_cols_as_dict('C', 'D', 127, 150), 'gem': get_cols_as_dict('C', 'E', 127, 150)},\n",
    "        'fri': {'max': get_cols_as_dict('C', 'D', 152, 175), 'gem': get_cols_as_dict('C', 'E', 152, 175)},\n",
    "        'sat': {'max': get_cols_as_dict('C', 'D', 177, 200), 'gem': get_cols_as_dict('C', 'E', 177, 200)},\n",
    "        'sun': {'max': get_cols_as_dict('C', 'D', 202, 225), 'gem': get_cols_as_dict('C', 'E', 202, 225)},\n",
    "        **get_cols_as_dict('B', 'D', 226)  # unpack to key and value\n",
    "    },\n",
    "    '3g': get_cols_as_dict('B', 'D', 228, 230),\n",
    "    'specialisme': get_cols_as_dict('C', 'D', 233, 242),  # 4a\n",
    "    '4b': get_cols_as_dict('B', 'D', 244, 247),\n",
    "    '4c': get_cols_as_dict('B', 'D', 250, 253),\n",
    "    '5': '',\n",
    "    '6a': get_cols_as_dict('B', 'D', 259),\n",
    "    '6b': get_cols_as_dict('B', 'D', 261),\n",
    "    '6c': get_cols_as_dict('B', 'D', 263),\n",
    "    '6d': get_cols_as_dict('B', 'D', 265),\n",
    "    '6e': get_cols_as_dict('B', 'D', 267)\n",
    "}\n",
    "\n",
    "week_keys = ['mon', 'tue', 'wed', 'thu', 'fri', 'sat', 'sun']\n",
    "\n",
    "for col in week_keys:\n",
    "    root['stapeldrukte'][col]['max'] = {f'H{k[0:2]}': v for k,v in root['stapeldrukte'][col]['max'].items()}\n",
    "    root['stapeldrukte'][col]['gem'] = {f'H{k[0:2]}': v for k,v in root['stapeldrukte'][col]['gem'].items()}\n",
    "\n",
    "times = list(root['stapeldrukte']['mon']['max'].keys())\n",
    "max_week = np.max([list(root['stapeldrukte'][col]['max'].values()) for col in week_keys], axis=0).astype(float)\n",
    "gem_week = np.mean([list(root['stapeldrukte'][col]['gem'].values()) for col in week_keys], axis=0).astype(float)\n",
    "\n",
    "root['stapeldrukte']['week'] = {'max': dict(zip(times, max_week)), 'gem': dict(zip(times, gem_week))}"
   ]
  },
  {
   "cell_type": "code",
   "execution_count": 35,
   "id": "f0f33631-c152-4852-b7aa-bca452b1ca10",
   "metadata": {},
   "outputs": [],
   "source": [
    "import json\n",
    "with open('seh.json', 'w') as filepath:\n",
    "    json.dump(root, filepath)"
   ]
  },
  {
   "cell_type": "code",
   "execution_count": null,
   "id": "9c5c14d5-ea4e-43ce-a9d4-cf82a7f84f3d",
   "metadata": {},
   "outputs": [],
   "source": []
  }
 ],
 "metadata": {
  "kernelspec": {
   "display_name": "Python 3 (ipykernel)",
   "language": "python",
   "name": "python3"
  },
  "language_info": {
   "codemirror_mode": {
    "name": "ipython",
    "version": 3
   },
   "file_extension": ".py",
   "mimetype": "text/x-python",
   "name": "python",
   "nbconvert_exporter": "python",
   "pygments_lexer": "ipython3",
   "version": "3.9.5"
  }
 },
 "nbformat": 4,
 "nbformat_minor": 5
}
